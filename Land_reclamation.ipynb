{
 "cells": [
  {
   "cell_type": "markdown",
   "id": "b7c47d81",
   "metadata": {},
   "source": [
    "# **Land Reclamation**"
   ]
  },
  {
   "cell_type": "code",
   "execution_count": 8,
   "id": "b1556535",
   "metadata": {},
   "outputs": [],
   "source": [
    "import numpy as np\n",
    "import matplotlib.pyplot as plt\n",
    "import pandas as pd\n",
    "\n",
    "pd.options.display.float_format = '{:,}'.format# show , for thousands\n",
    "pd.set_option('display.max_columns', 1000)# show all columns\n",
    "\n",
    "from pathlib import Path"
   ]
  },
  {
   "cell_type": "code",
   "execution_count": 11,
   "id": "a03f8865",
   "metadata": {},
   "outputs": [
    {
     "name": "stdout",
     "output_type": "stream",
     "text": [
      "Maximum hourly dry mass production (sand): 1440 m3/h\n",
      "Maximum production per week (sand): 241944 m3/week\n",
      "\n",
      "Maximum hourly dry mass production (cemented): 565 m3/h\n",
      "Maximum production per week (cemented): 94965 m3/week\n"
     ]
    }
   ],
   "source": [
    "Hopper_capacity = 2700 # m3\n",
    "suction_diameter = 700 #mm\n",
    "Power = 940 #kW dredge pump diesel engine\n",
    "v_TSHD = 11.5 #knots \n",
    "v = 3 #m/s\n",
    "fraction_sand = 0.35\n",
    "\n",
    "prod_sand = -6500*suction_diameter/1000 + 1250*(suction_diameter/1000)*np.log(Power)\n",
    "prod_cemented = -3300*suction_diameter/1000 + 600*(suction_diameter/1000)*np.log(Power)\n",
    "\n",
    "print('Maximum hourly dry mass production (sand):', round(prod_sand), 'm3/h')\n",
    "print('Maximum production per week (sand):', round(prod_sand*24*7), 'm3/week\\n')\n",
    "print('Maximum hourly dry mass production (cemented):', round(prod_cemented), 'm3/h')\n",
    "print('Maximum production per week (cemented):', round(prod_cemented*24*7), 'm3/week')"
   ]
  },
  {
   "cell_type": "markdown",
   "id": "6b69e659",
   "metadata": {},
   "source": [
    "**Sand layer**"
   ]
  },
  {
   "cell_type": "code",
   "execution_count": 12,
   "id": "c2256ddb",
   "metadata": {},
   "outputs": [
    {
     "name": "stdout",
     "output_type": "stream",
     "text": [
      "Total volume to be dredged: 1,154,842 m³\n",
      "Total volume to be dredged (sand): 465,228 m³\n"
     ]
    }
   ],
   "source": [
    "V_sand_basin = 461691\n",
    "V_cemented_basin = 227923\n",
    "V_sand_donor = 465228\n",
    "Total_volume = V_sand_basin + V_cemented_basin + V_sand_donor\n",
    "\n",
    "print(f'Total volume to be dredged: {Total_volume:,.0f} m³')\n",
    "print(f'Total volume to be dredged (sand): {V_sand_donor:,.0f} m³')"
   ]
  },
  {
   "cell_type": "code",
   "execution_count": 13,
   "id": "65817631",
   "metadata": {},
   "outputs": [],
   "source": [
    "week_sand_basin = 1.9 #weeks\n",
    "week_sand_cemented = 5.2 #weeks"
   ]
  },
  {
   "cell_type": "code",
   "execution_count": 14,
   "id": "94b41b17",
   "metadata": {},
   "outputs": [
    {
     "name": "stdout",
     "output_type": "stream",
     "text": [
      "Loading time to fill hopper: 39.0 minutes \n",
      "\n",
      "The average mixture density is  1588.0 kg/m3\n"
     ]
    }
   ],
   "source": [
    "Prod_pipe = v*0.25*np.pi*(suction_diameter/1000)**2\n",
    "Load_time = Hopper_capacity/Prod_pipe/3600\n",
    "print(f'Loading time to fill hopper: {round(Load_time*60,0)} minutes \\n')\n",
    "storage = Hopper_capacity # m3\n",
    "\n",
    "V_cycle = Load_time * prod_sand\n",
    "V_total = Hopper_capacity # volume of storage\n",
    "V_water = V_total - V_cycle # volume of water\n",
    "\n",
    "m_soil = V_cycle *2650 # total mass of soil (dry tons)\n",
    "m_water = V_water*1025 # total mass of water\n",
    "m_total = m_soil + m_water # total mass in hopper\n",
    "\n",
    "rho_mixture = m_total/V_total # mixture density\n",
    "print('The average mixture density is ', round(rho_mixture,0), 'kg/m3')"
   ]
  },
  {
   "cell_type": "code",
   "execution_count": 15,
   "id": "0bd92c02",
   "metadata": {},
   "outputs": [
    {
     "name": "stdout",
     "output_type": "stream",
     "text": [
      "Overflow density did not reach 2200 kg/m³ within 45 minutes. Using 45 min as overflow duration.\n",
      "Density of overflow water at 45 min: 1481.0 kg/m³\n",
      "Loading time without overflow: 39 mins\n",
      "Total time loading: 84 mins\n",
      "Sand volume per cycle: 1737.4 m³\n",
      "Sand mass per cycle: 3301.1 tonnes\n"
     ]
    }
   ],
   "source": [
    "rho_mix = rho_mixture\n",
    "rho_sea = 1025\n",
    "rho_sand = 1900\n",
    "\n",
    "sand_fraction = 0.35\n",
    "settlement_factor = 0.25\n",
    "trapping_factor = 0.05\n",
    "overflow_duration = 45 # mins\n",
    "max_density = 2200\n",
    "found = False\n",
    "\n",
    "for overflow_duration_test in range(0, 46):  # 0 to 45 minutes\n",
    "    solid_percentage = (rho_mix - rho_sea) / (rho_sand - rho_sea)\n",
    "    mass_dry = prod_sand * rho_sand\n",
    "    mass_mix = mass_dry / solid_percentage\n",
    "    volume_mix = mass_mix / rho_mix\n",
    "\n",
    "    mass_fines_mix = mass_mix * sand_fraction\n",
    "    mass_fines_stirred = mass_fines_mix * 0.03\n",
    "    mass_fines_settle = mass_fines_mix - mass_fines_stirred\n",
    "    mass_overflow = ((Load_time * 60 + overflow_duration_test) / (Load_time * 60)) * (1 - settlement_factor) * (1 - trapping_factor) * mass_fines_settle\n",
    "    rho_overflow = ((mass_mix - mass_overflow) / mass_mix) * rho_sea + (mass_overflow / mass_mix) * rho_sand\n",
    "\n",
    "    # stop if density reaches or exceeds max_density (including at 45 min)\n",
    "    if rho_overflow >= max_density:\n",
    "        print(f\"Maximum allowed overflow duration: {overflow_duration_test} min\")\n",
    "        print(f\"Density of overflow water: {rho_overflow:.1f} kg/m³\")\n",
    "        found = True\n",
    "        break\n",
    "\n",
    "    if not found:\n",
    "     # did not reach max density within 0-45 min -> force use of 45 min\n",
    "        overflow_duration_test = 45\n",
    "print(\"Overflow density did not reach 2200 kg/m³ within 45 minutes. Using 45 min as overflow duration.\")\n",
    "print(f\"Density of overflow water at 45 min: {rho_overflow:.1f} kg/m³\")\n",
    "\n",
    "t_loading = Load_time*60 + (overflow_duration_test) # total cycle time (min)\n",
    "print(f\"Loading time without overflow: {Load_time*60:.0f} mins\")\n",
    "print(f\"Total time loading: {t_loading:.0f} mins\")\n",
    "\n",
    "# 🔹 Sand volume and mass per cycle\n",
    "solid_fraction = (rho_mix - rho_sea) / (rho_sand - rho_sea)\n",
    "sand_volume_cycle = Hopper_capacity * solid_fraction\n",
    "sand_mass_cycle = sand_volume_cycle * rho_sand\n",
    "\n",
    "print(f\"Sand volume per cycle: {sand_volume_cycle:.1f} m³\")\n",
    "print(f\"Sand mass per cycle: {sand_mass_cycle/1000:.1f} tonnes\")\n"
   ]
  },
  {
   "cell_type": "code",
   "execution_count": 16,
   "id": "43dbe3ff",
   "metadata": {},
   "outputs": [
    {
     "name": "stdout",
     "output_type": "stream",
     "text": [
      "Total cycle time: 181.5 mins\n",
      "Sailing time: 20 mins\n",
      "Discharge time: 45.0 mins\n",
      "Maneuvering time: 15.0 mins\n"
     ]
    }
   ],
   "source": [
    "offshore_distance = 7000 #km\n",
    "Qavg = 3600 #m3/hr\n",
    "v_TSHD = 11.5*0.514*60 #convert to m/minute\n",
    "t_sailing = offshore_distance/v_TSHD #in minutes\n",
    "t_rainbow = Hopper_capacity/Qavg*60 #in minutes\n",
    "t_maneuvering = 15\n",
    "t_cycle = t_loading + t_sailing + t_rainbow + t_sailing*0.9 +t_maneuvering\n",
    "print(f\"Total cycle time: {t_cycle:.1f} mins\")\n",
    "print(f\"Sailing time: {t_sailing:.0f} mins\")\n",
    "print(f\"Discharge time: {t_rainbow:.1f} mins\")\n",
    "print(f\"Maneuvering time: {t_maneuvering:.1f} mins\")\n"
   ]
  },
  {
   "cell_type": "code",
   "execution_count": 17,
   "id": "5c7c065d",
   "metadata": {},
   "outputs": [
    {
     "name": "stdout",
     "output_type": "stream",
     "text": [
      "n_cylcles: 268 cycles\n",
      "Total days required to perform offshore dredging: 43.3 days\n",
      "Total weeks required to perform offshore dredging: 6.9 weeks\n"
     ]
    }
   ],
   "source": [
    "n_cycles = V_sand_donor/sand_volume_cycle\n",
    "total_cycle_minutes = n_cycles * t_cycle\n",
    "total_working_hours = total_cycle_minutes / 60\n",
    "total_days = total_working_hours / 22/0.85\n",
    "total_weeks = total_days / 7\n",
    "print(f'n_cylcles: {n_cycles:.0f} cycles')\n",
    "print(f'Total days required to perform offshore dredging: {total_days:.1f} days')\n",
    "print(f'Total weeks required to perform offshore dredging: {total_weeks/0.9:.1f} weeks')"
   ]
  }
 ],
 "metadata": {
  "kernelspec": {
   "display_name": "Python 3",
   "language": "python",
   "name": "python3"
  },
  "language_info": {
   "codemirror_mode": {
    "name": "ipython",
    "version": 3
   },
   "file_extension": ".py",
   "mimetype": "text/x-python",
   "name": "python",
   "nbconvert_exporter": "python",
   "pygments_lexer": "ipython3",
   "version": "3.12.4"
  }
 },
 "nbformat": 4,
 "nbformat_minor": 5
}
