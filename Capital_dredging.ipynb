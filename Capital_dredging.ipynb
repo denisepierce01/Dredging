{
 "cells": [
  {
   "cell_type": "markdown",
   "id": "36cdbd8b",
   "metadata": {},
   "source": [
    "# **Capital Deepening Dredging**"
   ]
  },
  {
   "cell_type": "code",
   "execution_count": 1,
   "id": "2e5ed5db",
   "metadata": {},
   "outputs": [
    {
     "data": {
      "text/html": [
       "<style>.container { width:99% !important; }</style>"
      ],
      "text/plain": [
       "<IPython.core.display.HTML object>"
      ]
     },
     "metadata": {},
     "output_type": "display_data"
    }
   ],
   "source": [
    "import numpy as np\n",
    "import matplotlib.pyplot as plt\n",
    "import pandas as pd\n",
    "\n",
    "pd.options.display.float_format = '{:,}'.format# show , for thousands\n",
    "pd.set_option('display.max_columns', 1000)# show all columns\n",
    "\n",
    "from pathlib import Path\n",
    "\n",
    "# change the width of the cells on screen \n",
    "from IPython.display import display, HTML\n",
    "display(HTML(\"<style>.container { width:99% !important; }</style>\"))"
   ]
  },
  {
   "cell_type": "code",
   "execution_count": 2,
   "id": "1be35860",
   "metadata": {},
   "outputs": [
    {
     "name": "stdout",
     "output_type": "stream",
     "text": [
      "Production rate of clay: 2280.0 m3/h\n",
      "Maximum weekly production rate of clay: 383040.0 m3/week\n",
      "\n",
      "Production rate of sand: 2280.0 m3/h\n",
      "Maximum weekly production rate of sand: 383040.0 m3/week\n",
      "\n",
      "Production rate of cemented sand: 520.0 m3/h\n",
      "Maximum weekly production rate of cemented sand: 87360.0 m3/week\n",
      "\n"
     ]
    }
   ],
   "source": [
    "Dredge_power = 700 #kW\n",
    "Production_rate_clay = 1800 + 200/(1000-500)*(3000-1800) #m3/h\n",
    "Production_rate_sand = 1800 + 200/(1000-500)*(3000-1800)\n",
    "Production_rate_cemented = 400 + 200/(1000-500)*(700-400)\n",
    "\n",
    "for soil_type, production_rate in zip(['clay', 'sand', 'cemented sand'], \n",
    "                                      [Production_rate_clay, Production_rate_sand, Production_rate_cemented]):\n",
    "    print(f'Production rate of {soil_type}: {production_rate:.1f} m3/h')\n",
    "    print(f'Maximum weekly production rate of {soil_type}: {production_rate*24*7:.1f} m3/week\\n')"
   ]
  },
  {
   "cell_type": "markdown",
   "id": "2e8d6fee",
   "metadata": {},
   "source": [
    "**Transporting clay and cemented material using pipeline**"
   ]
  },
  {
   "cell_type": "code",
   "execution_count": 3,
   "id": "f9cb2b00",
   "metadata": {},
   "outputs": [
    {
     "name": "stdout",
     "output_type": "stream",
     "text": [
      "Volume of sand: 461691.0 m3, top width: 210.0 m\n",
      "Volume of clay: 311196.0 m3, top width: 215.0 m\n",
      "Volume of cemented sand: 227923.0 m3, top width: 205.0 m \n",
      "\n"
     ]
    }
   ],
   "source": [
    "def V_trench(B,H,phi,L):#phi in degrees, B = bottom width, H = layer thickness\n",
    "    phi_rad = phi*np.pi/180\n",
    "    A = H*(B+H/np.tan(phi_rad))*L\n",
    "    B1 = B + 2*H/np.tan(phi_rad)\n",
    "    return A,B1\n",
    "\n",
    "V_sand, B_top_sand = V_trench(B = 200,H = 3,phi = 30, L=750) \n",
    "V_clay, B_top_clay = V_trench(B = 200,H = 2,phi = 15, L=750)\n",
    "V_cemented, B_top_cemented = V_trench(B = 200,H = 1.5,phi = 30, L=750)\n",
    "print('Volume of sand:', round(V_sand,0) ,'m3, top width:', round(B_top_sand,0), 'm')\n",
    "print('Volume of clay:', round(V_clay,0) ,'m3, top width:', round(B_top_clay,0), 'm')\n",
    "print('Volume of cemented sand:', round(V_cemented,0) ,'m3, top width:', round(B_top_cemented,0), 'm \\n')"
   ]
  },
  {
   "cell_type": "code",
   "execution_count": 4,
   "id": "142c23ee",
   "metadata": {},
   "outputs": [
    {
     "name": "stdout",
     "output_type": "stream",
     "text": [
      "Time to discharge clay volume via pipeline: 119.4 hours\n",
      "Days to discharge clay volume via pipeline: 6.0 days\n"
     ]
    }
   ],
   "source": [
    "Pipeline_capacity = Production_rate_clay *0.8\n",
    "t_pipeline_discharge = V_clay*0.7 / Pipeline_capacity #hour\n",
    "print('Time to discharge clay volume via pipeline:', round(t_pipeline_discharge,1), 'hours')\n",
    "print('Days to discharge clay volume via pipeline:', round(t_pipeline_discharge/20,1), 'days')"
   ]
  },
  {
   "cell_type": "code",
   "execution_count": 5,
   "id": "be431da5",
   "metadata": {},
   "outputs": [
    {
     "name": "stdout",
     "output_type": "stream",
     "text": [
      "Clamshell discharge time: 3.6 hours\n",
      "\n",
      "Time sailing LR and MF area: 5.0 minutes\n",
      "\n",
      "Clay:\n",
      "For soil density of 1800 kg/m3, loading and cycle time is 40.3 & 74.6 minutes\n",
      "Sediment volume per cycle: 1532 m³\n",
      "total_cycle_minutes: 75 minutes\n",
      "total_working_hours: 75.7 hours\n",
      "total cycles required : 61 cycles\n",
      "Deployed barges: 1\n",
      "Total days for barges required : 3.9 days\n",
      "Total days including pipeline discharge: 9.8 days\n",
      "Total weeks required : 1.4 weeks\n",
      "\n",
      "Sand:\n",
      "For soil density of 2000 kg/m3, loading and cycle time is 32.1 & 66.3 minutes\n",
      "Sediment volume per cycle: 1218 m³\n",
      "total_cycle_minutes: 66 minutes\n",
      "total_working_hours: 418.9 hours\n",
      "total cycles required : 379 cycles\n",
      "Deployed barges: 1\n",
      "Total days required : 21.4 days\n",
      "Total weeks required : 3.1 weeks\n",
      "\n",
      "Cemented:\n",
      "For soil density of 2400 kg/m3, loading and cycle time is 99.7 & 337.0 minutes\n",
      "Sediment volume per cycle: 864 m³\n",
      "total_cycle_minutes: 337 minutes\n",
      "total_working_hours: 1482.2 hours\n",
      "total cycles required : 264 cycles\n",
      "Deployed barges: 2\n",
      "Total days required : 37.8 days\n",
      "Total weeks required : 5.4 weeks\n",
      "\n"
     ]
    }
   ],
   "source": [
    "rho_mix = 1500\n",
    "rho_water = 1025\n",
    "rho_sand = 2000\n",
    "rho_cemented = 2400\n",
    "rho_clay = 1800\n",
    "Barges_velocity = 7 #knots\n",
    "distance = 11 #km\n",
    "distance_LR = 1 #km\n",
    "distance_MF = 1 #km\n",
    "Barge_capacity = 2500 #m3\n",
    "t_manouvering = 15 #minutes\n",
    "t_discharge = 10 #minutes\n",
    "\n",
    "\n",
    "# Clamshell\n",
    "Clamshell_bucket_capacity = 20 #m3\n",
    "Cycle_time_clamshell = 90/60 #seconds to minutes\n",
    "efficiency_clamshell = 0.88\n",
    "Productivity_clamshell = Clamshell_bucket_capacity*efficiency_clamshell / Cycle_time_clamshell * 60 #m3/h\n",
    "t_discharge_clamshell = Barge_capacity/Productivity_clamshell #hours\n",
    "print('Clamshell discharge time:', round(t_discharge_clamshell,1), 'hours\\n')\n",
    "\n",
    "time_sailing = distance_LR*1000/(Barges_velocity*0.514444*60) #minutes\n",
    "print(f'Time sailing LR and MF area:', round(time_sailing,0), 'minutes\\n')\n",
    "\n",
    "\n",
    "sediment = ['Clay', 'Sand', 'Cemented']\n",
    "production_rate = [Production_rate_clay, Production_rate_sand, Production_rate_cemented]\n",
    "volume = [V_clay*0.3, V_sand, V_cemented]\n",
    "\n",
    "for sediment, rho, prod, volume in zip(sediment,[rho_clay, rho_sand, rho_cemented], production_rate, volume):\n",
    "    solid_percentage = (rho_mix - rho_water) / (rho - rho_water)\n",
    "    mass_dry = prod * rho\n",
    "    mass_mix = mass_dry / solid_percentage\n",
    "    volume_mix = mass_mix / rho_mix\n",
    "    Load_time = Barge_capacity*60 / volume_mix  # mins  <-- keep this here\n",
    "    max_dredger_volume_per_hour = prod  # m3/hr of dry solids\n",
    "    max_dredger_slurry_rate = max_dredger_volume_per_hour / solid_percentage  # m3/hr slurry\n",
    "    Load_time_dredger = (Barge_capacity / max_dredger_slurry_rate) * 60  # minutes limited by CSD rate\n",
    "    Load_time = max(Load_time, Load_time_dredger)\n",
    "\n",
    "\n",
    "    if sediment == 'Cemented':\n",
    "        t_cycle = 2*time_sailing + Load_time + t_discharge_clamshell*60 + t_manouvering\n",
    "    else:\n",
    "        t_cycle = 2*time_sailing + Load_time + t_discharge + t_manouvering\n",
    "\n",
    "    volume_cycle = Barge_capacity* solid_percentage\n",
    "    sediment_mass_cycle = volume_cycle * rho\n",
    "\n",
    "    n_cycles = volume / volume_cycle\n",
    "    no_barges_sand = 1\n",
    "    no_barges_cemented = 2\n",
    "    total_cycle_minutes = n_cycles * t_cycle\n",
    "    total_working_hours = total_cycle_minutes / 60\n",
    "\n",
    "    #Cutter head maintenance calculations\n",
    "    inspection_interval_hours = 100           # inspect every 100 operating hours\n",
    "    replacement_wear_fraction = 0.40            # replace after ~50% wear\n",
    "    teeth_per_head = 10                         # Beaver 65 typical\n",
    "    downtime_per_tooth = 0.5                    # hours per tooth (~30 min)\n",
    "\n",
    "    total_replacements = total_working_hours / (inspection_interval_hours / replacement_wear_fraction)\n",
    "    replacement_downtime_hours = total_replacements * teeth_per_head * downtime_per_tooth\n",
    "\n",
    "    adjusted_total_working_hours = total_working_hours + replacement_downtime_hours\n",
    "\n",
    "    # cutting_time_h = volume_cycle / max_dredger_volume_per_hour    # hours spent cutting per cycle\n",
    "    # cycle_time_h = t_cycle / 60.0                                  # total cycle time in hours\n",
    "\n",
    "    # cutter_efficiency = cutting_time_h/ cycle_time_h\n",
    "\n",
    "\n",
    "    print(f'{sediment}:')\n",
    "    print('For soil density of', rho, 'kg/m3, loading and cycle time is', round(Load_time,1),'&', round(t_cycle,1),'minutes')\n",
    "    print(f\"Sediment volume per cycle: {volume_cycle:.0f} m³\")\n",
    "    print(f'total_cycle_minutes: {t_cycle:.0f} minutes')\n",
    "    print(f\"total_working_hours: {total_working_hours:.1f} hours\")\n",
    "    print(f'total cycles required : {n_cycles:.0f} cycles')\n",
    "    # print(f'Cutting time per cycle: {cutting_time_h:.2f} h')\n",
    "    # # print(f'Cutter efficiency: {cutter_efficiency:.3f} ({cutter_efficiency*100:.1f}%)')\n",
    "\n",
    "\n",
    "    if sediment == 'Cemented':\n",
    "        total_days = adjusted_total_working_hours / (20 * no_barges_cemented)\n",
    "        print(f'Deployed barges: {no_barges_cemented}')\n",
    "        print(f'Total days required : {total_days:.1f} days')\n",
    "        total_weeks = total_days/7\n",
    "        print(f'Total weeks required : {total_weeks:.1f} weeks\\n')\n",
    "\n",
    "    elif sediment == 'Clay':\n",
    "        total_days_barges = (adjusted_total_working_hours / (20 * no_barges_sand))\n",
    "        total_days = total_days_barges + (t_pipeline_discharge/20)\n",
    "        print(f'Deployed barges: {no_barges_sand}')\n",
    "        print(f'Total days for barges required : {total_days_barges:.1f} days')\n",
    "        print(f'Total days including pipeline discharge: {total_days:.1f} days')\n",
    "        total_weeks = total_days/7\n",
    "        print(f'Total weeks required : {total_weeks:.1f} weeks\\n')\n",
    "        \n",
    "    else:\n",
    "        total_days = adjusted_total_working_hours / (20 * no_barges_sand)\n",
    "        print(f'Deployed barges: {no_barges_sand}')\n",
    "        print(f'Total days required : {total_days:.1f} days')\n",
    "        total_weeks = total_days/7\n",
    "        print(f'Total weeks required : {total_weeks:.1f} weeks\\n')\n",
    "   \n",
    "\n"
   ]
  },
  {
   "cell_type": "markdown",
   "id": "c2d37d1e",
   "metadata": {},
   "source": [
    "# **Calculation of cavitation**"
   ]
  },
  {
   "cell_type": "code",
   "execution_count": 6,
   "id": "a639de8c",
   "metadata": {},
   "outputs": [
    {
     "name": "stdout",
     "output_type": "stream",
     "text": [
      "Dillation (Delta n): 0.1471\n",
      "Average permeability(k mean): 3.5e-06\n",
      "The force P2 non cavitation: 37922.66 kN/m\n",
      "The force P2 non cavitation: 37.92 MN/m\n",
      "\n",
      "The average elevation (z mean): 9.0 m\n",
      "The force P2: 76.42 kN/m\n",
      "The force P2: 0.08 N/m 1e6\n",
      "the lowest value will take place, so this situation will be cavitating\n"
     ]
    },
    {
     "data": {
      "image/png": "[encoded data removed]",
      "text/plain": [
       "<Figure size 640x480 with 1 Axes>"
      ]
     },
     "metadata": {},
     "output_type": "display_data"
    }
   ],
   "source": [
    "#CLAY\n",
    "n0_cemented = 0.22\n",
    "n1_cemented = 0.32\n",
    "k0_cemented = 2 * 10**-6\n",
    "k1_cemented = 5 * 10**-6\n",
    "phi_cemented  = 30\n",
    "\n",
    "v = 5 #m/s\n",
    "h = 0.2 #m\n",
    "alpha = 45 #deg\n",
    "delta = 20 #deg\n",
    "\n",
    "def calc_dn(n0_cemented,n1_cemented):\n",
    "    return (n1_cemented-n0_cemented)/(1-n1_cemented)\n",
    "\n",
    "print('Dillation (Delta n):', round(calc_dn(n0_cemented,n1_cemented),4))\n",
    "\n",
    "def calc_k_mean(k0_cemented,k1_cemented):\n",
    "    return (k0_cemented+k1_cemented)/2\n",
    "\n",
    "k_mean = calc_k_mean(k0_cemented,k1_cemented)\n",
    "print('Average permeability(k mean):', round(k_mean, 10))\n",
    "\n",
    "def calc_p2_NO_cavitation(rho_w,b,h,v,k,delta_n):\n",
    "    return 0.33*rho_w*9.81*b*h**2*(v/k)*delta_n\n",
    "\n",
    "P2_NO_cavit = calc_p2_NO_cavitation(rho_w=1025,b=1,h=0.2,v=5,k=k_mean,delta_n = 0.2)\n",
    "print('The force P2 non cavitation:', round(P2_NO_cavit/1e3, 2) , 'kN/m')\n",
    "print('The force P2 non cavitation:', round(P2_NO_cavit/1e6, 2) , 'MN/m\\n')\n",
    "\n",
    "z1 = 8\n",
    "z2 = 10\n",
    "def calc_z_mean(z1,z2):\n",
    "    return(z1+z2)/2\n",
    "\n",
    "z_mean = calc_z_mean(z1,z2)\n",
    "print('The average elevation (z mean):', z_mean , 'm')\n",
    "\n",
    "def calc_P2_cavitation(rho_w,b,h,z,beta):\n",
    "    beta_rad = beta*np.pi/180\n",
    "    return rho_w*9.81*b*h*(z+10)/np.sin(beta_rad)\n",
    "\n",
    "P2_cavit = calc_P2_cavitation(rho_w =1025,b=1,h=0.2,z=z_mean,beta=30)\n",
    "\n",
    "print('The force P2:',round(P2_cavit/1e3, 2) , 'kN/m')\n",
    "print('The force P2:',round(P2_cavit/1e6, 2) , 'N/m 1e6')\n",
    "\n",
    "P2_NO_cavit_serie = []\n",
    "P2_cavit_serie = []\n",
    "\n",
    "angle_serie = np.arange(30,45+1,1)\n",
    "\n",
    "for beta in angle_serie:\n",
    "    P2_NO_cavit_serie.append(calc_p2_NO_cavitation(rho_w=1025,b=1,h=0.2,v=5,k=k_mean,delta_n = 0.2)*np.sin(beta*np.pi/180))# multiply by angle in addition to formula\n",
    "    P2_cavit_serie.append(calc_P2_cavitation(rho_w =1025,b=1,h=0.2,z=z_mean,beta=beta))\n",
    "\n",
    "\n",
    "plt.plot(angle_serie, P2_NO_cavit_serie, label = 'non cavitating')\n",
    "plt.plot(angle_serie, P2_cavit_serie, label = 'cavitating')\n",
    "plt.legend();\n",
    "plt.xlabel(r'Shear angle ($\\beta$) [$\\degree$]')\n",
    "plt.ylabel('Cutting force [N/m]')\n",
    "\n",
    "print('the lowest value will take place, so this situation will be cavitating')"
   ]
  },
  {
   "cell_type": "code",
   "execution_count": 7,
   "id": "e359ef45",
   "metadata": {},
   "outputs": [
    {
     "name": "stdout",
     "output_type": "stream",
     "text": [
      "The optimal angle: 33.8 degrees\n"
     ]
    },
    {
     "name": "stderr",
     "output_type": "stream",
     "text": [
      "<>:20: SyntaxWarning: invalid escape sequence '\\d'\n",
      "<>:20: SyntaxWarning: invalid escape sequence '\\d'\n",
      "C:\\Users\\Rifaamaliah\\AppData\\Local\\Temp\\ipykernel_9036\\3720289618.py:20: SyntaxWarning: invalid escape sequence '\\d'\n",
      "  plt.xlabel('shear angle (beta) [$\\degree$]')\n"
     ]
    },
    {
     "data": {
      "image/png": "[encoded data removed]",
      "text/plain": [
       "<Figure size 640x480 with 1 Axes>"
      ]
     },
     "metadata": {},
     "output_type": "display_data"
    }
   ],
   "source": [
    "def calc_P1_cav(rho,b,h,alpha,z): # It follows the book, however the sugestion is that h should be h_blade, which influences the friction along the blade.\n",
    "    return rho*9.81*b*h*(z+10)/np.sin(alpha*np.pi/180)\n",
    "\n",
    "def calc_P2_cavitation(rho_w,b,h,z,beta): # used before, is correct\n",
    "    beta_rad = beta*np.pi/180\n",
    "    return rho_w*9.81*b*h*(z+10)/np.sin(beta_rad)\n",
    "\n",
    "def calc_Fh(P1,P2,alpha,beta,delta,phi):\n",
    "    return (P2*np.sin(phi*np.pi/180)*np.sin((alpha+delta)*np.pi/180)+P1*np.sin(delta*np.pi/180)*np.sin((beta+phi)*np.pi/180))/np.sin((alpha+beta+delta+phi)*np.pi/180)\n",
    "\n",
    "beta_serie = np.arange(30,40+1,0.1)\n",
    "\n",
    "Fh =[]\n",
    "for beta in beta_serie:\n",
    "    P1 = calc_P1_cav(rho = 1025,b=1,h=0.2,alpha=45, z = z_mean)\n",
    "    P2 = calc_P2_cavitation(rho_w =1025,b=1,h=0.2,z=z_mean,beta=beta)\n",
    "    Fh.append(calc_Fh(P1,P2,alpha=45,beta=beta,delta=delta,phi=phi_cemented))\n",
    "\n",
    "plt.plot(beta_serie, Fh);\n",
    "plt.xlabel('shear angle (beta) [$\\degree$]')\n",
    "plt.ylabel('Cutting Force [N/m]');\n",
    "\n",
    "index_lowest = np.where(Fh == np.min(Fh))[0][0]\n",
    "optimal_angle = beta_serie[index_lowest] \n",
    "\n",
    "print('The optimal angle:', round(optimal_angle,2), 'degrees')\n"
   ]
  },
  {
   "cell_type": "code",
   "execution_count": 8,
   "id": "3c54bc97",
   "metadata": {},
   "outputs": [
    {
     "name": "stdout",
     "output_type": "stream",
     "text": [
      "The vertical force: 30.2 kN/m\n",
      "The total cutting force: 101.0 kN\n",
      "\n",
      "The specific Energy: 366.7 kN/m2\n",
      "MINIMUM cutting power: 539.3 kW\n"
     ]
    }
   ],
   "source": [
    "\n",
    "def calc_Fv(P1,P2,alpha,beta,delta,phi):\n",
    "    return (P2*np.sin(phi*np.pi/180)*np.cos((alpha+delta)*np.pi/180)-P1*np.sin(delta*np.pi/180)*np.cos((beta+phi)*np.pi/180))/np.sin((alpha+beta+delta+phi)*np.pi/180)\n",
    "\n",
    "#Required cutting force\n",
    "P1 = calc_P1_cav(rho = rho_sand,b=1,h=0.2,alpha=45, z = z_mean)\n",
    "P2 = calc_P2_cavitation(rho_w =1025,b=1,h=0.2,z=z_mean,beta=optimal_angle)\n",
    "\n",
    "Fv = calc_Fv(P1,P2,alpha = 45,beta = optimal_angle,delta = 0.2,phi=35)\n",
    "print('The vertical force:', round(Fv/1000,1), 'kN/m')\n",
    "\n",
    "Fh = calc_Fh(P1,P2,alpha=45,beta=optimal_angle,delta=20,phi=35)\n",
    "\n",
    "F = (Fh**2+Fv**2)**0.5\n",
    "print('The total cutting force:', round(F/1000,0), 'kN\\n')\n",
    "\n",
    "#Specific Energy\n",
    "P1 = calc_P1_cav(rho = 1025,b=1,h=0.2,alpha=45, z = z_mean)\n",
    "P2 = calc_P2_cavitation(rho_w =1025,b=1,h=0.2,z=z_mean,beta=optimal_angle)\n",
    "Fh = calc_Fh(P1,P2,alpha=45,beta=optimal_angle,delta=20,phi=35)\n",
    "\n",
    "E_spec = Fh/0.2\n",
    "print('The specific Energy:', round(E_spec/1000,1), 'kN/m2')\n",
    "\n",
    "P_cut = E_spec/(0.8*(1-0.15))\n",
    "print('MINIMUM cutting power:', round(P_cut/1000,1), 'kW')"
   ]
  }
 ],
 "metadata": {
  "kernelspec": {
   "display_name": "Python 3",
   "language": "python",
   "name": "python3"
  },
  "language_info": {
   "codemirror_mode": {
    "name": "ipython",
    "version": 3
   },
   "file_extension": ".py",
   "mimetype": "text/x-python",
   "name": "python",
   "nbconvert_exporter": "python",
   "pygments_lexer": "ipython3",
   "version": "3.12.4"
  }
 },
 "nbformat": 4,
 "nbformat_minor": 5
}
